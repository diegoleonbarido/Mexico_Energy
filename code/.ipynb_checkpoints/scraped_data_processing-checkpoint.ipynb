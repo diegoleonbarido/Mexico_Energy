{
 "cells": [
  {
   "cell_type": "code",
   "execution_count": null,
   "metadata": {
    "collapsed": true
   },
   "outputs": [],
   "source": [
    "import requests\n",
    "from datetime import datetime\n",
    "import json\n",
    "from pprint import pprint\n",
    "import pandas as pd\n",
    "import glob, os\n",
    "import re\n",
    "import datetime"
   ]
  },
  {
   "cell_type": "code",
   "execution_count": null,
   "metadata": {
    "collapsed": true
   },
   "outputs": [],
   "source": [
    "# Getting all files in a directory\n",
    "all_data_txt = []\n",
    "os.chdir(\"/Users/diego/Desktop/Projects_Code/niuera-data/scraping/MX/scripts\")\n",
    "for file in glob.glob(\"*.txt\"):\n",
    "    all_data_txt.append(file)\n",
    "\n",
    "all_data_list = []\n",
    "for data_file in all_data_txt:\n",
    "    \n",
    "    this_data = json.load(open(data_file))\n",
    "\n",
    "    if \"_\" in data_file:\n",
    "        a, b,c,d = data_file.split(\"_\")\n",
    "        day = int(a)\n",
    "        month = int(b)\n",
    "        year = int(c)\n",
    "    else:\n",
    "        s0 = re.sub('mexico.txt','',data_file)\n",
    "        a, b,c,d = s0.split(\".\")\n",
    "        day = int(a)\n",
    "        month = int(b)\n",
    "        year = int(c)\n",
    "\n",
    "    this_hour = []\n",
    "    this_demand = []\n",
    "    this_generation = []\n",
    "    this_demand_forecast = []\n",
    "    this_connection = []\n",
    "    \n",
    "    if len(this_data) == 24:\n",
    "        \n",
    "        for i in range(0,24):\n",
    "            this_hour.append(this_data[i]['hora'])\n",
    "            this_demand.append(this_data[i]['valorDemanda'])\n",
    "            this_connection.append(this_data[i]['valorEnlace'])\n",
    "            this_generation.append(this_data[i]['valorGeneracion'])\n",
    "            this_demand_forecast.append(this_data[i]['valorPronostico'])\n",
    "\n",
    "        this_dataframe = pd.DataFrame([this_hour,this_demand,this_connection,this_generation,this_demand_forecast]).T\n",
    "        this_dataframe['day'] = day\n",
    "        this_dataframe['month'] = month\n",
    "        this_dataframe['year'] = year\n",
    "        this_dataframe['region'] = 'mexico'\n",
    "        all_data_list.append(this_dataframe)\n",
    "\n",
    "    else:\n",
    "        \n",
    "        regions = []\n",
    "        for key, value in this_data.items():\n",
    "            regions.append(key)\n",
    "            \n",
    "        for this_region in regions:\n",
    "\n",
    "            for i in range(0,24):\n",
    "                this_hour.append(this_data[this_region][i]['hora'])\n",
    "                this_demand.append(this_data[this_region][i]['valorDemanda'])\n",
    "                this_connection.append(this_data[this_region][i]['valorEnlace'])\n",
    "                this_generation.append(this_data[this_region][i]['valorGeneracion'])\n",
    "                this_demand_forecast.append(this_data[this_region][i]['valorPronostico'])\n",
    "\n",
    "            this_dataframe = pd.DataFrame([this_hour,this_demand,this_connection,this_generation,this_demand_forecast]).T\n",
    "            this_dataframe['day'] = day\n",
    "            this_dataframe['month'] = month\n",
    "            this_dataframe['year'] = year\n",
    "            this_dataframe['region'] = this_region\n",
    "            all_data_list.append(this_dataframe)\n",
    "    \n",
    "all_data_mex = pd.concat(all_data_list)\n"
   ]
  },
  {
   "cell_type": "code",
   "execution_count": null,
   "metadata": {
    "collapsed": true
   },
   "outputs": [],
   "source": [
    "all_data_mex.to_csv('data_cenace.csv')"
   ]
  }
 ],
 "metadata": {
  "kernelspec": {
   "display_name": "Python 3",
   "language": "python",
   "name": "python3"
  },
  "language_info": {
   "codemirror_mode": {
    "name": "ipython",
    "version": 3
   },
   "file_extension": ".py",
   "mimetype": "text/x-python",
   "name": "python",
   "nbconvert_exporter": "python",
   "pygments_lexer": "ipython3",
   "version": "3.6.0"
  }
 },
 "nbformat": 4,
 "nbformat_minor": 2
}
